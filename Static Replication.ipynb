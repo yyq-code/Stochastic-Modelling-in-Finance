{
 "cells": [
  {
   "cell_type": "markdown",
   "metadata": {},
   "source": [
    "## Part III (Static Replication)"
   ]
  },
  {
   "cell_type": "markdown",
   "metadata": {},
   "source": [
    "Suppose on 30-Aug-2013, we need to evaluate European derivatives expiring on 17-Jan-2015 and paying:\n",
    "\n",
    "- St^3 * 1e-8 + 0.5 * log(St) + 10\n",
    "\n",
    "Determine the price of these 2 derivative contracts if we use:\n",
    "\n",
    "- Black-Scholes model (what sigma should we use?)\n",
    "\n",
    "- 2 Bachelier model (what sigma should we use?)"
   ]
  },
  {
   "cell_type": "code",
   "execution_count": 13,
   "metadata": {},
   "outputs": [],
   "source": [
    "import pandas as pd\n",
    "import numpy as np\n",
    "from scipy.stats import norm\n",
    "from scipy.optimize import brentq\n",
    "from scipy import interpolate\n",
    "import datetime as dt\n",
    "from scipy.integrate import quad"
   ]
  },
  {
   "cell_type": "code",
   "execution_count": 2,
   "metadata": {},
   "outputs": [],
   "source": [
    "#Pay-off function using Black Scholes Model\n",
    "def BS_Payoff(S, K, r, sigma, T):\n",
    "    A = 1e-8 * (S * np.exp(T * (r+sigma**2)))**3\n",
    "    B = 0.5 * (np.log(S) + (r - 0.5*sigma**2)*T)\n",
    "    return np.exp(-r*T) * (A + B + 10)\n",
    "\n",
    "#Pay-off function using Bachelier Model (assuming r = 0)\n",
    "def Bach_Payoff(S, K, sigma, T):\n",
    "    \n",
    "    # Calculate Expectation by integration log(1 + σT^0.5 X), where  X ~ N(0,1)\n",
    "    def f(x):\n",
    "        return (1/np.sqrt(2*np.pi))*np.exp(-0.5*x**2)*np.log(1+sigma*np.sqrt(T)*x)\n",
    "    lower_bound = -1/(sigma*np.sqrt(T))\n",
    "    exp_log = quad(f,lower_bound, float('inf'))[0]\n",
    "    \n",
    "    A = 1e-8 * (S**3 * (1+3*sigma**2*T))\n",
    "    B = 0.5 * (np.log(S)+exp_log)\n",
    "    return A + B + 10"
   ]
  },
  {
   "cell_type": "code",
   "execution_count": 3,
   "metadata": {},
   "outputs": [],
   "source": [
    "# Pay-off function using Bachelier Model using Taylor explansion\n",
    "# def Bach_Payoff(S, K, sigma, T):\n",
    "#     A = 1e-8 * (S**3 * (1+3*sigma**2*T))\n",
    "#     B = 0.5 * (np.log(S)-(1/2)*sigma**2*T) #Taylor Expansion to the second order\n",
    "#     return A + B + 10"
   ]
  },
  {
   "cell_type": "code",
   "execution_count": 4,
   "metadata": {},
   "outputs": [],
   "source": [
    "#Black-Scholes Model\n",
    "\n",
    "def BlackScholesCall(S, K, r, sigma, T):\n",
    "    d1 = (np.log(S/K)+(r+sigma**2/2)*T) / (sigma*np.sqrt(T))\n",
    "    d2 = d1 - sigma*np.sqrt(T)\n",
    "    return S*norm.cdf(d1) - K*np.exp(-r*T)*norm.cdf(d2)\n",
    "\n",
    "def BlackScholesPut(S, K, r, sigma, T):\n",
    "    d1 = (np.log(S/K)+(r+sigma**2/2)*T) / (sigma*np.sqrt(T))\n",
    "    d2 = d1 - sigma*np.sqrt(T)\n",
    "    return K*np.exp(-r*T)*norm.cdf(-d2) - S*norm.cdf(-d1)\n",
    "\n",
    "#Implied Call & Put Volatility\n",
    "def impliedCallVolatility(S, K, r, price, T):\n",
    "    impliedVol = brentq(lambda x: price -\n",
    "                        BlackScholesCall(S, K, r, x, T),\n",
    "                        1e-6, 1)\n",
    "    return impliedVol\n",
    "\n",
    "def impliedPutVolatility(S, K, r, price, T):\n",
    "    impliedVol = brentq(lambda x: price -\n",
    "                        BlackScholesPut(S, K, r, x, T),\n",
    "                        1e-6, 1)\n",
    "    return impliedVol"
   ]
  },
  {
   "cell_type": "code",
   "execution_count": 5,
   "metadata": {},
   "outputs": [],
   "source": [
    "#Read Data\n",
    "    \n",
    "discount_df = pd.read_csv('discount.csv')\n",
    "call_df = pd.read_csv(\"goog_call.csv\")\n",
    "call_df['mid_price'] = (call_df['best_bid'] + call_df['best_offer'])/2\n",
    "put_df = pd.read_csv(\"goog_put.csv\")\n",
    "put_df['mid_price'] = (put_df['best_bid'] + put_df['best_offer'])/2"
   ]
  },
  {
   "cell_type": "code",
   "execution_count": 6,
   "metadata": {},
   "outputs": [
    {
     "data": {
      "text/html": [
       "<div>\n",
       "<style scoped>\n",
       "    .dataframe tbody tr th:only-of-type {\n",
       "        vertical-align: middle;\n",
       "    }\n",
       "\n",
       "    .dataframe tbody tr th {\n",
       "        vertical-align: top;\n",
       "    }\n",
       "\n",
       "    .dataframe thead th {\n",
       "        text-align: right;\n",
       "    }\n",
       "</style>\n",
       "<table border=\"1\" class=\"dataframe\">\n",
       "  <thead>\n",
       "    <tr style=\"text-align: right;\">\n",
       "      <th></th>\n",
       "      <th>Day</th>\n",
       "      <th>Rate (%)</th>\n",
       "    </tr>\n",
       "  </thead>\n",
       "  <tbody>\n",
       "    <tr>\n",
       "      <th>0</th>\n",
       "      <td>7</td>\n",
       "      <td>0.14981</td>\n",
       "    </tr>\n",
       "    <tr>\n",
       "      <th>1</th>\n",
       "      <td>14</td>\n",
       "      <td>0.17250</td>\n",
       "    </tr>\n",
       "    <tr>\n",
       "      <th>2</th>\n",
       "      <td>19</td>\n",
       "      <td>0.17595</td>\n",
       "    </tr>\n",
       "    <tr>\n",
       "      <th>3</th>\n",
       "      <td>47</td>\n",
       "      <td>0.23118</td>\n",
       "    </tr>\n",
       "    <tr>\n",
       "      <th>4</th>\n",
       "      <td>82</td>\n",
       "      <td>0.25150</td>\n",
       "    </tr>\n",
       "  </tbody>\n",
       "</table>\n",
       "</div>"
      ],
      "text/plain": [
       "   Day  Rate (%)\n",
       "0    7   0.14981\n",
       "1   14   0.17250\n",
       "2   19   0.17595\n",
       "3   47   0.23118\n",
       "4   82   0.25150"
      ]
     },
     "execution_count": 6,
     "metadata": {},
     "output_type": "execute_result"
    }
   ],
   "source": [
    "discount_df.head()"
   ]
  },
  {
   "cell_type": "code",
   "execution_count": 7,
   "metadata": {},
   "outputs": [
    {
     "data": {
      "text/html": [
       "<div>\n",
       "<style scoped>\n",
       "    .dataframe tbody tr th:only-of-type {\n",
       "        vertical-align: middle;\n",
       "    }\n",
       "\n",
       "    .dataframe tbody tr th {\n",
       "        vertical-align: top;\n",
       "    }\n",
       "\n",
       "    .dataframe thead th {\n",
       "        text-align: right;\n",
       "    }\n",
       "</style>\n",
       "<table border=\"1\" class=\"dataframe\">\n",
       "  <thead>\n",
       "    <tr style=\"text-align: right;\">\n",
       "      <th></th>\n",
       "      <th>date</th>\n",
       "      <th>expiry</th>\n",
       "      <th>strike</th>\n",
       "      <th>best_bid</th>\n",
       "      <th>best_offer</th>\n",
       "      <th>mid_price</th>\n",
       "    </tr>\n",
       "  </thead>\n",
       "  <tbody>\n",
       "    <tr>\n",
       "      <th>0</th>\n",
       "      <td>20130830</td>\n",
       "      <td>20150117</td>\n",
       "      <td>320</td>\n",
       "      <td>525.3</td>\n",
       "      <td>528.8</td>\n",
       "      <td>527.05</td>\n",
       "    </tr>\n",
       "    <tr>\n",
       "      <th>1</th>\n",
       "      <td>20130830</td>\n",
       "      <td>20150117</td>\n",
       "      <td>340</td>\n",
       "      <td>505.8</td>\n",
       "      <td>509.2</td>\n",
       "      <td>507.50</td>\n",
       "    </tr>\n",
       "    <tr>\n",
       "      <th>2</th>\n",
       "      <td>20130830</td>\n",
       "      <td>20150117</td>\n",
       "      <td>350</td>\n",
       "      <td>496.0</td>\n",
       "      <td>499.2</td>\n",
       "      <td>497.60</td>\n",
       "    </tr>\n",
       "    <tr>\n",
       "      <th>3</th>\n",
       "      <td>20130830</td>\n",
       "      <td>20150117</td>\n",
       "      <td>360</td>\n",
       "      <td>486.3</td>\n",
       "      <td>489.4</td>\n",
       "      <td>487.85</td>\n",
       "    </tr>\n",
       "    <tr>\n",
       "      <th>4</th>\n",
       "      <td>20130830</td>\n",
       "      <td>20150117</td>\n",
       "      <td>370</td>\n",
       "      <td>476.5</td>\n",
       "      <td>479.7</td>\n",
       "      <td>478.10</td>\n",
       "    </tr>\n",
       "  </tbody>\n",
       "</table>\n",
       "</div>"
      ],
      "text/plain": [
       "       date    expiry  strike  best_bid  best_offer  mid_price\n",
       "0  20130830  20150117     320     525.3       528.8     527.05\n",
       "1  20130830  20150117     340     505.8       509.2     507.50\n",
       "2  20130830  20150117     350     496.0       499.2     497.60\n",
       "3  20130830  20150117     360     486.3       489.4     487.85\n",
       "4  20130830  20150117     370     476.5       479.7     478.10"
      ]
     },
     "execution_count": 7,
     "metadata": {},
     "output_type": "execute_result"
    }
   ],
   "source": [
    "call_df.head()"
   ]
  },
  {
   "cell_type": "code",
   "execution_count": 8,
   "metadata": {},
   "outputs": [
    {
     "data": {
      "text/html": [
       "<div>\n",
       "<style scoped>\n",
       "    .dataframe tbody tr th:only-of-type {\n",
       "        vertical-align: middle;\n",
       "    }\n",
       "\n",
       "    .dataframe tbody tr th {\n",
       "        vertical-align: top;\n",
       "    }\n",
       "\n",
       "    .dataframe thead th {\n",
       "        text-align: right;\n",
       "    }\n",
       "</style>\n",
       "<table border=\"1\" class=\"dataframe\">\n",
       "  <thead>\n",
       "    <tr style=\"text-align: right;\">\n",
       "      <th></th>\n",
       "      <th>date</th>\n",
       "      <th>expiry</th>\n",
       "      <th>strike</th>\n",
       "      <th>best_bid</th>\n",
       "      <th>best_offer</th>\n",
       "      <th>mid_price</th>\n",
       "    </tr>\n",
       "  </thead>\n",
       "  <tbody>\n",
       "    <tr>\n",
       "      <th>0</th>\n",
       "      <td>20130830</td>\n",
       "      <td>20150117</td>\n",
       "      <td>320</td>\n",
       "      <td>0.90</td>\n",
       "      <td>2.00</td>\n",
       "      <td>1.450</td>\n",
       "    </tr>\n",
       "    <tr>\n",
       "      <th>1</th>\n",
       "      <td>20130830</td>\n",
       "      <td>20150117</td>\n",
       "      <td>340</td>\n",
       "      <td>0.15</td>\n",
       "      <td>2.30</td>\n",
       "      <td>1.225</td>\n",
       "    </tr>\n",
       "    <tr>\n",
       "      <th>2</th>\n",
       "      <td>20130830</td>\n",
       "      <td>20150117</td>\n",
       "      <td>350</td>\n",
       "      <td>0.80</td>\n",
       "      <td>2.45</td>\n",
       "      <td>1.625</td>\n",
       "    </tr>\n",
       "    <tr>\n",
       "      <th>3</th>\n",
       "      <td>20130830</td>\n",
       "      <td>20150117</td>\n",
       "      <td>360</td>\n",
       "      <td>0.60</td>\n",
       "      <td>2.65</td>\n",
       "      <td>1.625</td>\n",
       "    </tr>\n",
       "    <tr>\n",
       "      <th>4</th>\n",
       "      <td>20130830</td>\n",
       "      <td>20150117</td>\n",
       "      <td>370</td>\n",
       "      <td>0.65</td>\n",
       "      <td>2.85</td>\n",
       "      <td>1.750</td>\n",
       "    </tr>\n",
       "  </tbody>\n",
       "</table>\n",
       "</div>"
      ],
      "text/plain": [
       "       date    expiry  strike  best_bid  best_offer  mid_price\n",
       "0  20130830  20150117     320      0.90        2.00      1.450\n",
       "1  20130830  20150117     340      0.15        2.30      1.225\n",
       "2  20130830  20150117     350      0.80        2.45      1.625\n",
       "3  20130830  20150117     360      0.60        2.65      1.625\n",
       "4  20130830  20150117     370      0.65        2.85      1.750"
      ]
     },
     "execution_count": 8,
     "metadata": {},
     "output_type": "execute_result"
    }
   ],
   "source": [
    "put_df.head()"
   ]
  },
  {
   "cell_type": "code",
   "execution_count": 9,
   "metadata": {},
   "outputs": [],
   "source": [
    "#Interpolation interest rate\n",
    "x = discount_df['Day']\n",
    "y = discount_df['Rate (%)']\n",
    "f = interpolate.interp1d(x,y)"
   ]
  },
  {
   "cell_type": "code",
   "execution_count": 10,
   "metadata": {},
   "outputs": [
    {
     "name": "stdout",
     "output_type": "stream",
     "text": [
      "0.25827414878228977\n"
     ]
    }
   ],
   "source": [
    "#Parameters\n",
    "\n",
    "n = len(call_df.index)\n",
    "strike = call_df['strike'].values\n",
    "\n",
    "begin = dt.date(2013, 8, 30)\n",
    "expiry = dt.date(2015, 1, 17)\n",
    "\n",
    "T = (expiry-begin).days/365\n",
    "S = 846.9\n",
    "r = f(T*365)/100\n",
    "K = 850\n",
    "\n",
    "#Calculate at the money sigma\n",
    "atm_call = (100+102.8)/2\n",
    "atm_put = (101.8+104)/2\n",
    "sigma_call = impliedCallVolatility(S, K, r, atm_call, T)\n",
    "sigma_put = impliedPutVolatility(S, K, r, atm_put, T)\n",
    "sigma = (sigma_call + sigma_put)/2\n",
    "print(sigma)"
   ]
  },
  {
   "cell_type": "code",
   "execution_count": 11,
   "metadata": {},
   "outputs": [
    {
     "name": "stdout",
     "output_type": "stream",
     "text": [
      "T =  1.3835616438356164  S =  846.9  r =  0.004053595604395604  Sigma =  0.25827414878228977\n"
     ]
    }
   ],
   "source": [
    "print(\"T = \",T,\" S = \", S,\" r = \",r,\" Sigma = \",sigma)"
   ]
  },
  {
   "cell_type": "code",
   "execution_count": 14,
   "metadata": {},
   "outputs": [
    {
     "name": "stdout",
     "output_type": "stream",
     "text": [
      "Black-Scholes Model Price: 21.37823513954841\n",
      "\n",
      "\n",
      "Bachelier Model Price: 21.09949114999562\n"
     ]
    }
   ],
   "source": [
    "#Calculate Pricing\n",
    "BS_Price = BS_Payoff(S, K, r, sigma, T)\n",
    "print('Black-Scholes Model Price:', BS_Price)\n",
    "print()\n",
    "print()\n",
    "Bach_Price = Bach_Payoff(S, K, sigma, T)\n",
    "print('Bachelier Model Price:', Bach_Price)"
   ]
  },
  {
   "cell_type": "code",
   "execution_count": null,
   "metadata": {},
   "outputs": [],
   "source": []
  }
 ],
 "metadata": {
  "kernelspec": {
   "display_name": "Python 3",
   "language": "python",
   "name": "python3"
  },
  "language_info": {
   "codemirror_mode": {
    "name": "ipython",
    "version": 3
   },
   "file_extension": ".py",
   "mimetype": "text/x-python",
   "name": "python",
   "nbconvert_exporter": "python",
   "pygments_lexer": "ipython3",
   "version": "3.8.5"
  }
 },
 "nbformat": 4,
 "nbformat_minor": 2
}
