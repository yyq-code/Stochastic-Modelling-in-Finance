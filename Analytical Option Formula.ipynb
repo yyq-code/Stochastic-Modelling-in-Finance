{
 "cells": [
  {
   "cell_type": "markdown",
   "metadata": {},
   "source": [
    "##  Part I (Analytical Option Formula)\n",
    "\n",
    "Consider the following European options: \n",
    "\n",
    "- Vanilla call/put \n",
    "- Digital cash-or-nothing call/put \n",
    "- Digital asset-or-nothing call/put\n",
    "\n",
    "Derive and implement the following models to value these options in Python: \n",
    "\n",
    "- 1 Black-Scholes model \n",
    "- 2 Bachelier model \n",
    "- 3 Black76 model \n",
    "- 4 Displaced-diﬀusion model"
   ]
  },
  {
   "cell_type": "code",
   "execution_count": 1,
   "metadata": {},
   "outputs": [],
   "source": [
    "import pandas as pd\n",
    "import numpy as np\n",
    "import matplotlib.pyplot as plt\n",
    "import datetime\n",
    "from scipy.stats import norm\n",
    "from scipy.optimize import brentq\n",
    "from scipy.interpolate import interp1d\n",
    "from math import log, sqrt, exp\n",
    "from scipy.optimize import least_squares\n",
    "%matplotlib inline"
   ]
  },
  {
   "cell_type": "markdown",
   "metadata": {},
   "source": [
    "### Vanilla call"
   ]
  },
  {
   "cell_type": "markdown",
   "metadata": {},
   "source": [
    "#### Black-Scholes model"
   ]
  },
  {
   "cell_type": "code",
   "execution_count": 2,
   "metadata": {},
   "outputs": [],
   "source": [
    "def BlackScholesCall(S, K, r, sigma, T):\n",
    "    d1 = (np.log(S / K) + (r + sigma ** 2 / 2) * T) / (sigma * np.sqrt(T))\n",
    "    d2 = d1 - sigma * np.sqrt(T)\n",
    "    return S * norm.cdf(d1) - K * np.exp(-r * T) * norm.cdf(d2)"
   ]
  },
  {
   "cell_type": "markdown",
   "metadata": {},
   "source": [
    "#### Bachelier model"
   ]
  },
  {
   "cell_type": "code",
   "execution_count": 3,
   "metadata": {},
   "outputs": [],
   "source": [
    "def BachelierCall(S,K,r,sigma,T):\n",
    "    d1=(S-K) / (S * sigma * np.sqrt(T))\n",
    "    return (S-K) * norm.cdf(d1) + S * sigma * np.sqrt(T) * norm.pdf(d1)"
   ]
  },
  {
   "cell_type": "markdown",
   "metadata": {},
   "source": [
    "#### Black76 model "
   ]
  },
  {
   "cell_type": "code",
   "execution_count": 4,
   "metadata": {},
   "outputs": [],
   "source": [
    "def Black76Call(F,K,r,sigma,T):\n",
    "    d1= (np.log(F / K )+(1 / 2) * sigma ** 2 * T) / (sigma * np.sqrt(T))\n",
    "    d2=d1 - sigma * np.sqrt(T)\n",
    "    return np.exp(-r * T) * (F * norm.cdf(d1) - K * norm.cdf(d2))"
   ]
  },
  {
   "cell_type": "markdown",
   "metadata": {},
   "source": [
    "#### Displaced-diﬀusion model"
   ]
  },
  {
   "cell_type": "code",
   "execution_count": 5,
   "metadata": {},
   "outputs": [],
   "source": [
    "def Displaced_diffusionCall(F,K,r,sigma,T,beta):\n",
    "    Fd = F / beta\n",
    "    sigmad = sigma * beta\n",
    "    Kd = K + ((1-beta) / beta) * F\n",
    "    d1 = (np.log(Fd / Kd) + (sigmad ** 2 / 2) * T) / (sigmad * np.sqrt(T))\n",
    "    d2 = d1 - sigmad * np.sqrt(T)\n",
    "    return np.exp(-r * T) * (Fd * norm.cdf(d1) - Kd * norm.cdf(d2))"
   ]
  },
  {
   "cell_type": "markdown",
   "metadata": {},
   "source": [
    "### Vanilla put"
   ]
  },
  {
   "cell_type": "markdown",
   "metadata": {},
   "source": [
    "#### Black-Scholes model"
   ]
  },
  {
   "cell_type": "code",
   "execution_count": 6,
   "metadata": {},
   "outputs": [],
   "source": [
    "def BlackScholesPut(S, K, r, sigma, T):\n",
    "    d1 = (np.log(S / K) + (r + sigma ** 2/2) * T) / (sigma * np.sqrt(T))\n",
    "    d2 = d1 - sigma * np.sqrt(T)\n",
    "    return K * np.exp(-r * T) * norm.cdf(-d2) - S * norm.cdf(-d1)"
   ]
  },
  {
   "cell_type": "markdown",
   "metadata": {},
   "source": [
    "#### Bachelier model"
   ]
  },
  {
   "cell_type": "code",
   "execution_count": 7,
   "metadata": {},
   "outputs": [],
   "source": [
    "def BachelierPut(S,K,r,sigma,T):\n",
    "    d1 = (S-K) / (S * sigma * np.sqrt(T))\n",
    "    return (K-S) * norm.cdf(-d1) + S *sigma * np.sqrt(T) * norm.pdf(-d1)"
   ]
  },
  {
   "cell_type": "markdown",
   "metadata": {},
   "source": [
    "#### Black76 model "
   ]
  },
  {
   "cell_type": "code",
   "execution_count": 8,
   "metadata": {},
   "outputs": [],
   "source": [
    "def Black76Put(F,K,r,sigma,T):\n",
    "    d1 = (np.log(F / K) + (1 / 2) * sigma ** 2 * T) / (sigma * np.sqrt(T))\n",
    "    d2 = d1 - sigma * np.sqrt(T)\n",
    "    return np.exp(-r * T) * (K * norm.cdf(-d2) - F * norm.cdf(-d1))"
   ]
  },
  {
   "cell_type": "markdown",
   "metadata": {},
   "source": [
    "#### Displaced-diﬀusion model"
   ]
  },
  {
   "cell_type": "code",
   "execution_count": 9,
   "metadata": {},
   "outputs": [],
   "source": [
    "def Displaced_diffusionPut(F,K,r,sigma,T,beta):\n",
    "    Fd = F / beta\n",
    "    sigmad = sigma * beta\n",
    "    Kd = K + ((1 - beta) / beta) * F\n",
    "    d1 = (np.log(Fd / Kd) + (sigmad ** 2 / 2) * T) / (sigmad * np.sqrt(T))\n",
    "    d2 = d1 - sigmad * np.sqrt(T)\n",
    "    return np.exp(-r * T) * (Kd * norm.cdf(-d2) - Fd * norm.cdf(-d1))"
   ]
  },
  {
   "cell_type": "markdown",
   "metadata": {},
   "source": [
    "### Digital cash-or-nothing call"
   ]
  },
  {
   "cell_type": "markdown",
   "metadata": {},
   "source": [
    "#### Black-Scholes model"
   ]
  },
  {
   "cell_type": "code",
   "execution_count": 10,
   "metadata": {},
   "outputs": [],
   "source": [
    "def BlackScholesCall_Di_Ca(S, K, r, sigma, T):\n",
    "    d1 = (np.log(S / K) + (r + sigma ** 2 / 2) * T) / (sigma * np.sqrt(T))\n",
    "    d2 = d1 - sigma * np.sqrt(T)\n",
    "    return np.exp(-r * T) * norm.cdf(d2)"
   ]
  },
  {
   "cell_type": "markdown",
   "metadata": {},
   "source": [
    "#### Bachelier model"
   ]
  },
  {
   "cell_type": "code",
   "execution_count": 11,
   "metadata": {},
   "outputs": [],
   "source": [
    "def BachelierCall_Di_Ca(S,K,r,sigma,T):\n",
    "    d1=(S-K) / (S * sigma * np.sqrt(T))\n",
    "    return norm.cdf(d1)"
   ]
  },
  {
   "cell_type": "markdown",
   "metadata": {},
   "source": [
    "#### Black76 model "
   ]
  },
  {
   "cell_type": "code",
   "execution_count": 12,
   "metadata": {},
   "outputs": [],
   "source": [
    "def Black76Call_Di_Ca(F,K,r,sigma,T):\n",
    "    d1 = (np.log(F / K )+(1 / 2) * sigma ** 2 * T) / (sigma * np.sqrt(T))\n",
    "    d2 = d1 - sigma * np.sqrt(T)\n",
    "    return np.exp(-r * T) * norm.cdf(d2)"
   ]
  },
  {
   "cell_type": "markdown",
   "metadata": {},
   "source": [
    "#### Displaced-diﬀusion model"
   ]
  },
  {
   "cell_type": "code",
   "execution_count": 13,
   "metadata": {},
   "outputs": [],
   "source": [
    "def Displaced_diffusionCall_Di_Ca(F,K,r,sigma,T,beta):\n",
    "    Fd = F / beta\n",
    "    sigmad = sigma * beta\n",
    "    Kd = K + ((1-beta) / beta) * F\n",
    "    d1 = (np.log(Fd / Kd) + (sigmad ** 2 / 2) * T) / (sigmad * np.sqrt(T))\n",
    "    d2 = d1 - sigmad * np.sqrt(T)\n",
    "    return np.exp(-r * T) * norm.cdf(d2)"
   ]
  },
  {
   "cell_type": "markdown",
   "metadata": {},
   "source": [
    "### Digital cash-or-nothing put"
   ]
  },
  {
   "cell_type": "markdown",
   "metadata": {},
   "source": [
    "#### Black-Scholes model"
   ]
  },
  {
   "cell_type": "code",
   "execution_count": 14,
   "metadata": {},
   "outputs": [],
   "source": [
    "def BlackScholesPut_Di_Ca(S, K, r, sigma, T):\n",
    "    d1 = (np.log(S / K) + (r + sigma ** 2/2) * T) / (sigma * np.sqrt(T))\n",
    "    d2 = d1 - sigma * np.sqrt(T)\n",
    "    return np.exp(-r * T) * norm.cdf(-d2)"
   ]
  },
  {
   "cell_type": "markdown",
   "metadata": {},
   "source": [
    "#### Bachelier model"
   ]
  },
  {
   "cell_type": "code",
   "execution_count": 15,
   "metadata": {},
   "outputs": [],
   "source": [
    "def BachelierPut_Di_Ca(S,K,r,sigma,T):\n",
    "    d1 = (S-K) / (S * sigma * np.sqrt(T))\n",
    "    return norm.cdf(-d1)"
   ]
  },
  {
   "cell_type": "markdown",
   "metadata": {},
   "source": [
    "#### Black76 model "
   ]
  },
  {
   "cell_type": "code",
   "execution_count": 16,
   "metadata": {},
   "outputs": [],
   "source": [
    "def Black76Put_Di_Ca(F,K,r,sigma,T):\n",
    "    d1 = (np.log(F / K) + (1 / 2) * sigma ** 2 * T) / (sigma * np.sqrt(T))\n",
    "    d2 = d1 - sigma * np.sqrt(T)\n",
    "    return np.exp(-r * T) * norm.cdf(-d2)"
   ]
  },
  {
   "cell_type": "markdown",
   "metadata": {},
   "source": [
    "#### Displaced-diﬀusion model"
   ]
  },
  {
   "cell_type": "code",
   "execution_count": 17,
   "metadata": {},
   "outputs": [],
   "source": [
    "def Displaced_diffusionPut_Di_Ca(F,K,r,sigma,T,beta):\n",
    "    Fd = F / beta\n",
    "    sigmad = sigma * beta\n",
    "    Kd = K + ((1 - beta) / beta) * F\n",
    "    d1 = (np.log(Fd / Kd) + (sigmad ** 2 / 2) * T) / (sigmad * np.sqrt(T))\n",
    "    d2 = d1 - sigmad * np.sqrt(T)\n",
    "    return np.exp(-r * T) * norm.cdf(-d2)"
   ]
  },
  {
   "cell_type": "markdown",
   "metadata": {},
   "source": [
    "### Digital asset-or-nothing call"
   ]
  },
  {
   "cell_type": "markdown",
   "metadata": {},
   "source": [
    "#### Black-Scholes model"
   ]
  },
  {
   "cell_type": "code",
   "execution_count": 18,
   "metadata": {},
   "outputs": [],
   "source": [
    "def BlackScholesCall_Di_As(S, K, r, sigma, T):\n",
    "    d1 = (np.log(S / K) + (r + sigma ** 2 / 2) * T) / (sigma * np.sqrt(T))\n",
    "    d2 = d1 - sigma * np.sqrt(T)\n",
    "    return S * norm.cdf(d1)"
   ]
  },
  {
   "cell_type": "markdown",
   "metadata": {},
   "source": [
    "#### Bachelier model"
   ]
  },
  {
   "cell_type": "code",
   "execution_count": 19,
   "metadata": {},
   "outputs": [],
   "source": [
    "def BachelierCall_Di_As(S,K,r,sigma,T):\n",
    "    d1=(S-K) / (S * sigma * np.sqrt(T))\n",
    "    return S * norm.cdf(d1) + S * sigma * np.sqrt(T) * norm.pdf(d1)"
   ]
  },
  {
   "cell_type": "markdown",
   "metadata": {},
   "source": [
    "#### Black76 model "
   ]
  },
  {
   "cell_type": "code",
   "execution_count": 21,
   "metadata": {},
   "outputs": [],
   "source": [
    "def Black76Call_Di_As(F,K,r,sigma,T):\n",
    "    d1= (np.log(F / K )+(1 / 2) * sigma ** 2 * T) / (sigma * np.sqrt(T))\n",
    "    d2=d1 - sigma * np.sqrt(T)\n",
    "    return np.exp(-r * T) * F * norm.cdf(d1)"
   ]
  },
  {
   "cell_type": "markdown",
   "metadata": {},
   "source": [
    "#### Displaced-diﬀusion model"
   ]
  },
  {
   "cell_type": "code",
   "execution_count": 22,
   "metadata": {},
   "outputs": [],
   "source": [
    "def Displaced_diffusionCall_Di_As(F,K,r,sigma,T,beta):\n",
    "    Fd = F / beta\n",
    "    sigmad = sigma * beta\n",
    "    Kd = K + ((1-beta) / beta) * F\n",
    "    d1 = (np.log(Fd / Kd) + (sigmad ** 2 / 2) * T) / (sigmad * np.sqrt(T))\n",
    "    d2 = d1 - sigmad * np.sqrt(T)\n",
    "    return np.exp(-r * T) * Fd * norm.cdf(d1)"
   ]
  },
  {
   "cell_type": "markdown",
   "metadata": {},
   "source": [
    "### Digital asset-or-nothing put"
   ]
  },
  {
   "cell_type": "markdown",
   "metadata": {},
   "source": [
    "#### Black-Scholes model"
   ]
  },
  {
   "cell_type": "code",
   "execution_count": 23,
   "metadata": {},
   "outputs": [],
   "source": [
    "def BlackScholesPut_Di_As(S, K, r, sigma, T):\n",
    "    d1 = (np.log(S / K) + (r + sigma ** 2/2) * T) / (sigma * np.sqrt(T))\n",
    "    d2 = d1 - sigma * np.sqrt(T)\n",
    "    return S * norm.cdf(-d1)"
   ]
  },
  {
   "cell_type": "markdown",
   "metadata": {},
   "source": [
    "#### Bachelier model"
   ]
  },
  {
   "cell_type": "code",
   "execution_count": 24,
   "metadata": {},
   "outputs": [],
   "source": [
    "def BachelierPut_Di_As(S,K,r,sigma,T):\n",
    "    d1 = (S-K) / (S * sigma * np.sqrt(T))\n",
    "    return S * norm.cdf(-d1) + S *sigma * np.sqrt(T) * norm.pdf(-d1)"
   ]
  },
  {
   "cell_type": "markdown",
   "metadata": {},
   "source": [
    "#### Black76 model "
   ]
  },
  {
   "cell_type": "code",
   "execution_count": 25,
   "metadata": {},
   "outputs": [],
   "source": [
    "def Black76Put_Di_As(F,K,r,sigma,T):\n",
    "    d1 = (np.log(F / K) + (1 / 2) * sigma ** 2 * T) / (sigma * np.sqrt(T))\n",
    "    d2 = d1 - sigma * np.sqrt(T)\n",
    "    return np.exp(-r * T) *  F * norm.cdf(-d1)"
   ]
  },
  {
   "cell_type": "markdown",
   "metadata": {},
   "source": [
    "#### Displaced-diﬀusion model"
   ]
  },
  {
   "cell_type": "code",
   "execution_count": 26,
   "metadata": {},
   "outputs": [],
   "source": [
    "def Displaced_diffusionPut_Di_As(F,K,r,sigma,T,beta):\n",
    "    Fd = F / beta\n",
    "    sigmad = sigma * beta\n",
    "    Kd = K + ((1 - beta) / beta) * F\n",
    "    d1 = (np.log(Fd / Kd) + (sigmad ** 2 / 2) * T) / (sigmad * np.sqrt(T))\n",
    "    d2 = d1 - sigmad * np.sqrt(T)\n",
    "    return np.exp(-r * T) * Fd * norm.cdf(-d1)"
   ]
  }
 ],
 "metadata": {
  "kernelspec": {
   "display_name": "Python 3",
   "language": "python",
   "name": "python3"
  },
  "language_info": {
   "codemirror_mode": {
    "name": "ipython",
    "version": 3
   },
   "file_extension": ".py",
   "mimetype": "text/x-python",
   "name": "python",
   "nbconvert_exporter": "python",
   "pygments_lexer": "ipython3",
   "version": "3.8.5"
  }
 },
 "nbformat": 4,
 "nbformat_minor": 4
}
