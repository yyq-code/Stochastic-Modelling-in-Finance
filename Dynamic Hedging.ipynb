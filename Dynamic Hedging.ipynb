{
 "cells": [
  {
   "cell_type": "markdown",
   "metadata": {},
   "source": [
    "## Part IV (Dynamic Hedging)"
   ]
  },
  {
   "cell_type": "markdown",
   "metadata": {},
   "source": [
    "Given: S0= 100, σ = 0.2, r = 5%, T = 1/12 year and K = 100\n",
    "\n",
    "Using `Black-Scholes model` to simulate the stock price, we sell at-the-money call option, and hedge N times during the life of the call option to test the final profit and loss of our dynamic hedging strategy.  (Assume there are 21 trading days over the month.)"
   ]
  },
  {
   "cell_type": "code",
   "execution_count": 1,
   "metadata": {},
   "outputs": [],
   "source": [
    "import pandas as pd\n",
    "import numpy as np\n",
    "from scipy.stats import norm\n",
    "import matplotlib.pylab as plt\n",
    "np.random.seed(2020)"
   ]
  },
  {
   "cell_type": "code",
   "execution_count": 2,
   "metadata": {},
   "outputs": [],
   "source": [
    "# Black-Scholes Model\n",
    "\n",
    "def BlackScholesCall(S, K, r, sigma, T):\n",
    "    d1 = (np.log(S/K)+(r+sigma**2/2)*T) / (sigma*np.sqrt(T))\n",
    "    d2 = d1 - sigma*np.sqrt(T)\n",
    "    return S*norm.cdf(d1) - K*np.exp(-r*T)*norm.cdf(d2)"
   ]
  },
  {
   "cell_type": "code",
   "execution_count": 3,
   "metadata": {},
   "outputs": [],
   "source": [
    "# Stock Price\n",
    "    \n",
    "def StockPrice(S, r, t, sigma, W):\n",
    "    return S*np.exp((r*t-0.5*sigma**2*t)+sigma*W)"
   ]
  },
  {
   "cell_type": "code",
   "execution_count": 4,
   "metadata": {},
   "outputs": [],
   "source": [
    "# Phi and PsiB\n",
    "    \n",
    "def Phi(S, K, r, sigma, T, t):\n",
    "        d1 = (np.log(S/K) + (r+0.5*sigma**2)*(T-t))/(sigma*np.sqrt(T-t))\n",
    "        return norm.cdf(d1)\n",
    "\n",
    "def PsiB(S, K, r, sigma, T, t):\n",
    "        d2 = (np.log(S/K) + (r-0.5*sigma**2)*(T-t))/(sigma*np.sqrt(T-t))\n",
    "        return -K*np.exp(-r*(T-t))*norm.cdf(d2)"
   ]
  },
  {
   "cell_type": "code",
   "execution_count": 5,
   "metadata": {},
   "outputs": [],
   "source": [
    "# Brownian Motion\n",
    "    \n",
    "def simulate_Brownian_Motion(paths, steps, T):\n",
    "    deltaT = T/steps\n",
    "    t = np.linspace(0, T, steps+1)\n",
    "    X = np.c_[np.zeros((paths, 1)),\n",
    "              np.random.randn(paths, steps)]\n",
    "    return t, np.cumsum(np.sqrt(deltaT) * X, axis=1)"
   ]
  },
  {
   "cell_type": "code",
   "execution_count": 6,
   "metadata": {},
   "outputs": [],
   "source": [
    "# Hedging Error\n",
    "    \n",
    "def HedgingError(S0, K, r, sigma, T, t, x):\n",
    "    S = pd.DataFrame(StockPrice(S0, r, t, sigma, x))\n",
    "    phi = pd.DataFrame(Phi(S, K, r, sigma, T, t))\n",
    "    psib = pd.DataFrame(PsiB(S, K, r, sigma, T, t))\n",
    "    hedging_error = pd.DataFrame(phi.values[:,:-1]*np.diff(S) + psib.values[:,:-1]*r*(T/len(t)))\n",
    "    hedging_error['Sum'] = hedging_error.apply(np.sum, axis = 1)\n",
    "    payoff = np.maximum(S-K, 0)\n",
    "    call_option = BlackScholesCall(S0, K, r, sigma, T)\n",
    "    final_PL = hedging_error['Sum'].values + call_option - payoff.iloc[:,-1]\n",
    "    return final_PL"
   ]
  },
  {
   "cell_type": "code",
   "execution_count": 7,
   "metadata": {},
   "outputs": [],
   "source": [
    "# Parameters\n",
    "    \n",
    "S0 = 100\n",
    "sigma = 0.2\n",
    "r = 0.05\n",
    "T = 1/12\n",
    "K = 100\n",
    "N1 = 21\n",
    "N2 = 84\n",
    "paths = 50000\n",
    "\n",
    "t, x = simulate_Brownian_Motion(paths, N1, T)\n",
    "t2, x2 = simulate_Brownian_Motion(paths, N2, T)"
   ]
  },
  {
   "cell_type": "code",
   "execution_count": 8,
   "metadata": {},
   "outputs": [
    {
     "data": {
      "image/png": "[encoded data removed]",
      "text/plain": [
       "<Figure size 432x288 with 1 Axes>"
      ]
     },
     "metadata": {
      "needs_background": "light"
     },
     "output_type": "display_data"
    }
   ],
   "source": [
    "# First Simulation\n",
    "    \n",
    "simulation1 = HedgingError(S0, K, r, sigma, T, t, x)\n",
    "\n",
    "plt.hist(simulation1, bins=50, range=[-2, 2], facecolor='green', align='mid')\n",
    "plt.title('Simulation 1 (N = 21)')\n",
    "plt.xlabel('Final Profit / Loss')\n",
    "plt.ylabel('Frequency')\n",
    "plt.show()"
   ]
  },
  {
   "cell_type": "code",
   "execution_count": 9,
   "metadata": {},
   "outputs": [
    {
     "data": {
      "image/png": "[encoded data removed]",
      "text/plain": [
       "<Figure size 432x288 with 1 Axes>"
      ]
     },
     "metadata": {
      "needs_background": "light"
     },
     "output_type": "display_data"
    }
   ],
   "source": [
    "# Second Simulation\n",
    "    \n",
    "simulation2 = HedgingError(S0, K, r, sigma, T, t2, x2)\n",
    "\n",
    "plt.hist(simulation2, bins=50, range=[-1, 1], facecolor='blue', align='mid')\n",
    "plt.title('Simulation 2 (N = 84)')\n",
    "plt.xlabel('Final Profit / Loss')\n",
    "plt.ylabel('Frequency')\n",
    "plt.show()"
   ]
  },
  {
   "cell_type": "code",
   "execution_count": 10,
   "metadata": {},
   "outputs": [
    {
     "name": "stdout",
     "output_type": "stream",
     "text": [
      "0.009125983120376116\n",
      "0.0037130937317739745\n"
     ]
    }
   ],
   "source": [
    "# Mean P&L\n",
    "mean_s1 = np.mean(simulation1)\n",
    "mean_s2 = np.mean(simulation2)\n",
    "print(mean_s1)\n",
    "print(mean_s2)"
   ]
  },
  {
   "cell_type": "code",
   "execution_count": 11,
   "metadata": {},
   "outputs": [
    {
     "name": "stdout",
     "output_type": "stream",
     "text": [
      "0.42716060789168697\n",
      "0.21812509376087436\n"
     ]
    }
   ],
   "source": [
    "# SD of P&L\n",
    "sd_s1 = np.std(simulation1)\n",
    "sd_s2 = np.std(simulation2)\n",
    "print(sd_s1)\n",
    "print(sd_s2)"
   ]
  }
 ],
 "metadata": {
  "kernelspec": {
   "display_name": "Python 3",
   "language": "python",
   "name": "python3"
  },
  "language_info": {
   "codemirror_mode": {
    "name": "ipython",
    "version": 3
   },
   "file_extension": ".py",
   "mimetype": "text/x-python",
   "name": "python",
   "nbconvert_exporter": "python",
   "pygments_lexer": "ipython3",
   "version": "3.8.5"
  }
 },
 "nbformat": 4,
 "nbformat_minor": 2
}
